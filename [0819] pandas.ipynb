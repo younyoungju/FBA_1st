{
 "cells": [
  {
   "cell_type": "code",
   "execution_count": 1,
   "id": "b7faacb3",
   "metadata": {},
   "outputs": [
    {
     "data": {
      "text/plain": [
       "이름\n",
       "철수    10\n",
       "영희     5\n",
       "민수     2\n",
       "칠성     2\n",
       "펩시     7\n",
       "dtype: int64"
      ]
     },
     "execution_count": 1,
     "metadata": {},
     "output_type": "execute_result"
    }
   ],
   "source": [
    "import pandas as pd\n",
    "data1 = pd.Series([10,5,2,2,7], index = [\"철수\",\"영희\",\"민수\",\"칠성\",\"펩시\"])\n",
    "data1.index.name =\"이름\"\n",
    "data1"
   ]
  },
  {
   "cell_type": "code",
   "execution_count": 2,
   "id": "d93263f6",
   "metadata": {},
   "outputs": [
    {
     "data": {
      "text/plain": [
       "10"
      ]
     },
     "execution_count": 2,
     "metadata": {},
     "output_type": "execute_result"
    }
   ],
   "source": [
    "data1[\"철수\"]"
   ]
  },
  {
   "cell_type": "code",
   "execution_count": 3,
   "id": "0fd82195",
   "metadata": {},
   "outputs": [
    {
     "data": {
      "text/plain": [
       "10"
      ]
     },
     "execution_count": 3,
     "metadata": {},
     "output_type": "execute_result"
    }
   ],
   "source": [
    "data1.loc[\"철수\"]"
   ]
  },
  {
   "cell_type": "code",
   "execution_count": 4,
   "id": "f1f8c36d",
   "metadata": {},
   "outputs": [
    {
     "data": {
      "text/plain": [
       "10"
      ]
     },
     "execution_count": 4,
     "metadata": {},
     "output_type": "execute_result"
    }
   ],
   "source": [
    "data1.iloc[0]"
   ]
  },
  {
   "cell_type": "code",
   "execution_count": 5,
   "id": "3cfab980",
   "metadata": {},
   "outputs": [
    {
     "data": {
      "text/plain": [
       "이름\n",
       "민수    2\n",
       "펩시    7\n",
       "dtype: int64"
      ]
     },
     "execution_count": 5,
     "metadata": {},
     "output_type": "execute_result"
    }
   ],
   "source": [
    "data1[[\"민수\",'펩시']]"
   ]
  },
  {
   "cell_type": "code",
   "execution_count": 6,
   "id": "97294d54",
   "metadata": {},
   "outputs": [
    {
     "data": {
      "text/plain": [
       "이름\n",
       "민수    2\n",
       "펩시    7\n",
       "dtype: int64"
      ]
     },
     "execution_count": 6,
     "metadata": {},
     "output_type": "execute_result"
    }
   ],
   "source": [
    "data1.loc[[\"민수\",'펩시']]"
   ]
  },
  {
   "cell_type": "code",
   "execution_count": 9,
   "id": "e10f067b",
   "metadata": {},
   "outputs": [
    {
     "data": {
      "text/plain": [
       "이름\n",
       "민수    2\n",
       "펩시    7\n",
       "dtype: int64"
      ]
     },
     "execution_count": 9,
     "metadata": {},
     "output_type": "execute_result"
    }
   ],
   "source": [
    "data1.iloc[[2,4]]"
   ]
  },
  {
   "cell_type": "code",
   "execution_count": 10,
   "id": "9554f638",
   "metadata": {},
   "outputs": [
    {
     "data": {
      "text/plain": [
       "Index(['철수', '영희', '민수', '칠성', '펩시'], dtype='object', name='이름')"
      ]
     },
     "execution_count": 10,
     "metadata": {},
     "output_type": "execute_result"
    }
   ],
   "source": [
    "# index 확인\n",
    "data1.index"
   ]
  },
  {
   "cell_type": "code",
   "execution_count": 11,
   "id": "3531bbaa",
   "metadata": {},
   "outputs": [
    {
     "data": {
      "text/plain": [
       "array([10,  5,  2,  2,  7], dtype=int64)"
      ]
     },
     "execution_count": 11,
     "metadata": {},
     "output_type": "execute_result"
    }
   ],
   "source": [
    "# 값확인\n",
    "data1.values"
   ]
  },
  {
   "cell_type": "code",
   "execution_count": 12,
   "id": "e9c8925b",
   "metadata": {},
   "outputs": [
    {
     "data": {
      "text/plain": [
       "[2, 2, 5, 7, 10]"
      ]
     },
     "execution_count": 12,
     "metadata": {},
     "output_type": "execute_result"
    }
   ],
   "source": [
    "# 값 정렬\n",
    "sorted(data1)\n",
    "sorted(data1.values)"
   ]
  },
  {
   "cell_type": "code",
   "execution_count": 17,
   "id": "c931a065",
   "metadata": {},
   "outputs": [
    {
     "data": {
      "text/plain": [
       "['민수', '영희', '철수', '칠성', '펩시']"
      ]
     },
     "execution_count": 17,
     "metadata": {},
     "output_type": "execute_result"
    }
   ],
   "source": [
    "#인덱스 정렬\n",
    "sorted(data1.index)"
   ]
  },
  {
   "cell_type": "code",
   "execution_count": 19,
   "id": "bf5561fc",
   "metadata": {
    "scrolled": true
   },
   "outputs": [
    {
     "data": {
      "text/plain": [
       "이름\n",
       "민수     2\n",
       "영희     5\n",
       "철수    10\n",
       "칠성     2\n",
       "펩시     7\n",
       "dtype: int64"
      ]
     },
     "execution_count": 19,
     "metadata": {},
     "output_type": "execute_result"
    }
   ],
   "source": [
    "#index로 정렬한대로 재정렬하기\n",
    "data1.reindex(sorted(data1.index))"
   ]
  },
  {
   "cell_type": "code",
   "execution_count": 20,
   "id": "2e5051e0",
   "metadata": {},
   "outputs": [
    {
     "data": {
      "text/plain": [
       "이름\n",
       "철수    10\n",
       "칠성     2\n",
       "펩시     7\n",
       "민수     2\n",
       "영희     5\n",
       "dtype: int64"
      ]
     },
     "execution_count": 20,
     "metadata": {},
     "output_type": "execute_result"
    }
   ],
   "source": [
    "#index 재설정\n",
    "new_index = ['철수', '칠성', '펩시','민수', '영희']\n",
    "data1.reindex(new_index)"
   ]
  },
  {
   "cell_type": "code",
   "execution_count": 21,
   "id": "68ebc66d",
   "metadata": {},
   "outputs": [
    {
     "data": {
      "text/plain": [
       "철수    10\n",
       "영희     5\n",
       "영주     2\n",
       "콜라     2\n",
       "펩시     7\n",
       "dtype: int64"
      ]
     },
     "execution_count": 21,
     "metadata": {},
     "output_type": "execute_result"
    }
   ],
   "source": [
    "data2 = pd.Series([10,5,2,2,7], index = [\"철수\",\"영희\",\"영주\",\"콜라\",\"펩시\"])\n",
    "data2"
   ]
  },
  {
   "cell_type": "code",
   "execution_count": 23,
   "id": "49313817",
   "metadata": {},
   "outputs": [
    {
     "data": {
      "text/plain": [
       "민수     NaN\n",
       "영주     NaN\n",
       "영희    10.0\n",
       "철수    20.0\n",
       "칠성     NaN\n",
       "콜라     NaN\n",
       "펩시    14.0\n",
       "dtype: float64"
      ]
     },
     "execution_count": 23,
     "metadata": {},
     "output_type": "execute_result"
    }
   ],
   "source": [
    "# 양쪽으로 다 존재하지 않는 index는 NaN값 생성\n",
    "data1+ data2"
   ]
  },
  {
   "cell_type": "code",
   "execution_count": 24,
   "id": "d2c31f7d",
   "metadata": {},
   "outputs": [
    {
     "data": {
      "text/plain": [
       "array([10,  5,  2,  7], dtype=int64)"
      ]
     },
     "execution_count": 24,
     "metadata": {},
     "output_type": "execute_result"
    }
   ],
   "source": [
    "# 유일한 값 뽑기\n",
    "data1.unique()"
   ]
  },
  {
   "cell_type": "code",
   "execution_count": 26,
   "id": "22dbafbd",
   "metadata": {},
   "outputs": [
    {
     "data": {
      "text/plain": [
       "금    10\n",
       "은     3\n",
       "동    12\n",
       "dtype: int64"
      ]
     },
     "execution_count": 26,
     "metadata": {},
     "output_type": "execute_result"
    }
   ],
   "source": [
    "#딕셔너리로 시리즈 만들기\n",
    "# 딕셔너리의 키값이 index로 들어가는 것을 알 수 있음\n",
    "medal = {\"금\":10, \"은\":3,\"동\":12}\n",
    "data3= pd.Series(medal)\n",
    "data3"
   ]
  },
  {
   "cell_type": "code",
   "execution_count": 30,
   "id": "0a5779ec",
   "metadata": {},
   "outputs": [
    {
     "data": {
      "text/html": [
       "<div>\n",
       "<style scoped>\n",
       "    .dataframe tbody tr th:only-of-type {\n",
       "        vertical-align: middle;\n",
       "    }\n",
       "\n",
       "    .dataframe tbody tr th {\n",
       "        vertical-align: top;\n",
       "    }\n",
       "\n",
       "    .dataframe thead th {\n",
       "        text-align: right;\n",
       "    }\n",
       "</style>\n",
       "<table border=\"1\" class=\"dataframe\">\n",
       "  <thead>\n",
       "    <tr style=\"text-align: right;\">\n",
       "      <th></th>\n",
       "      <th>name</th>\n",
       "      <th>age</th>\n",
       "      <th>height</th>\n",
       "    </tr>\n",
       "  </thead>\n",
       "  <tbody>\n",
       "    <tr>\n",
       "      <th>0</th>\n",
       "      <td>벤</td>\n",
       "      <td>23</td>\n",
       "      <td>152</td>\n",
       "    </tr>\n",
       "    <tr>\n",
       "      <th>1</th>\n",
       "      <td>광수</td>\n",
       "      <td>41</td>\n",
       "      <td>190</td>\n",
       "    </tr>\n",
       "    <tr>\n",
       "      <th>2</th>\n",
       "      <td>재석</td>\n",
       "      <td>62</td>\n",
       "      <td>178</td>\n",
       "    </tr>\n",
       "    <tr>\n",
       "      <th>3</th>\n",
       "      <td>종국</td>\n",
       "      <td>9</td>\n",
       "      <td>185</td>\n",
       "    </tr>\n",
       "  </tbody>\n",
       "</table>\n",
       "</div>"
      ],
      "text/plain": [
       "  name  age  height\n",
       "0    벤   23     152\n",
       "1   광수   41     190\n",
       "2   재석   62     178\n",
       "3   종국    9     185"
      ]
     },
     "execution_count": 30,
     "metadata": {},
     "output_type": "execute_result"
    }
   ],
   "source": [
    "#딕셔너리로 데이터 프레임을 만들 경우 컬럼 지정을 따로 안해줘도 됨\n",
    "person = {\"age\":[23,41,62,9],\n",
    "          \"name\":[\"벤\",\"광수\",\"재석\",\"종국\"],\n",
    "          \"height\":[152,190,178,185]}\n",
    "data4 = pd.DataFrame(person, columns = [\"name\",\"age\",\"height\"]) \n",
    "data4"
   ]
  },
  {
   "cell_type": "code",
   "execution_count": 33,
   "id": "1defb848",
   "metadata": {},
   "outputs": [
    {
     "name": "stdout",
     "output_type": "stream",
     "text": [
      "0    23\n",
      "1    41\n",
      "2    62\n",
      "3     9\n",
      "Name: age, dtype: int64\n",
      "0    23\n",
      "1    41\n",
      "2    62\n",
      "3     9\n",
      "Name: age, dtype: int64\n"
     ]
    }
   ],
   "source": [
    "# 컬럼명으로 데이터 값 확인하기\n",
    "# 아래 두개가 같은 값임\n",
    "print(data4[\"age\"])\n",
    "print(data4.age)"
   ]
  },
  {
   "cell_type": "code",
   "execution_count": 42,
   "id": "42779d2b",
   "metadata": {},
   "outputs": [
    {
     "data": {
      "text/html": [
       "<div>\n",
       "<style scoped>\n",
       "    .dataframe tbody tr th:only-of-type {\n",
       "        vertical-align: middle;\n",
       "    }\n",
       "\n",
       "    .dataframe tbody tr th {\n",
       "        vertical-align: top;\n",
       "    }\n",
       "\n",
       "    .dataframe thead th {\n",
       "        text-align: right;\n",
       "    }\n",
       "</style>\n",
       "<table border=\"1\" class=\"dataframe\">\n",
       "  <thead>\n",
       "    <tr style=\"text-align: right;\">\n",
       "      <th></th>\n",
       "      <th>name</th>\n",
       "      <th>age</th>\n",
       "      <th>height</th>\n",
       "    </tr>\n",
       "  </thead>\n",
       "  <tbody>\n",
       "    <tr>\n",
       "      <th>1</th>\n",
       "      <td>광수</td>\n",
       "      <td>41</td>\n",
       "      <td>190</td>\n",
       "    </tr>\n",
       "    <tr>\n",
       "      <th>2</th>\n",
       "      <td>재석</td>\n",
       "      <td>62</td>\n",
       "      <td>178</td>\n",
       "    </tr>\n",
       "  </tbody>\n",
       "</table>\n",
       "</div>"
      ],
      "text/plain": [
       "  name  age  height\n",
       "1   광수   41     190\n",
       "2   재석   62     178"
      ]
     },
     "execution_count": 42,
     "metadata": {},
     "output_type": "execute_result"
    }
   ],
   "source": [
    "# 2,3번째 row 출력\n",
    "data4.iloc[[2,3]]\n",
    "data4.iloc[1:3] #slicing 이용"
   ]
  },
  {
   "cell_type": "code",
   "execution_count": 48,
   "id": "a73b0f88",
   "metadata": {},
   "outputs": [
    {
     "data": {
      "text/html": [
       "<div>\n",
       "<style scoped>\n",
       "    .dataframe tbody tr th:only-of-type {\n",
       "        vertical-align: middle;\n",
       "    }\n",
       "\n",
       "    .dataframe tbody tr th {\n",
       "        vertical-align: top;\n",
       "    }\n",
       "\n",
       "    .dataframe thead th {\n",
       "        text-align: right;\n",
       "    }\n",
       "</style>\n",
       "<table border=\"1\" class=\"dataframe\">\n",
       "  <thead>\n",
       "    <tr style=\"text-align: right;\">\n",
       "      <th></th>\n",
       "      <th>age</th>\n",
       "      <th>height</th>\n",
       "    </tr>\n",
       "  </thead>\n",
       "  <tbody>\n",
       "    <tr>\n",
       "      <th>0</th>\n",
       "      <td>23</td>\n",
       "      <td>152</td>\n",
       "    </tr>\n",
       "    <tr>\n",
       "      <th>1</th>\n",
       "      <td>41</td>\n",
       "      <td>190</td>\n",
       "    </tr>\n",
       "    <tr>\n",
       "      <th>2</th>\n",
       "      <td>62</td>\n",
       "      <td>178</td>\n",
       "    </tr>\n",
       "    <tr>\n",
       "      <th>3</th>\n",
       "      <td>9</td>\n",
       "      <td>185</td>\n",
       "    </tr>\n",
       "  </tbody>\n",
       "</table>\n",
       "</div>"
      ],
      "text/plain": [
       "   age  height\n",
       "0   23     152\n",
       "1   41     190\n",
       "2   62     178\n",
       "3    9     185"
      ]
     },
     "execution_count": 48,
     "metadata": {},
     "output_type": "execute_result"
    }
   ],
   "source": [
    "# 2,3번째 col 추출\n",
    "data4.iloc[:,[1,2]]\n",
    "data4.iloc[:,1:3] "
   ]
  },
  {
   "cell_type": "code",
   "execution_count": 51,
   "id": "9aab23f8",
   "metadata": {},
   "outputs": [
    {
     "data": {
      "text/html": [
       "<div>\n",
       "<style scoped>\n",
       "    .dataframe tbody tr th:only-of-type {\n",
       "        vertical-align: middle;\n",
       "    }\n",
       "\n",
       "    .dataframe tbody tr th {\n",
       "        vertical-align: top;\n",
       "    }\n",
       "\n",
       "    .dataframe thead th {\n",
       "        text-align: right;\n",
       "    }\n",
       "</style>\n",
       "<table border=\"1\" class=\"dataframe\">\n",
       "  <thead>\n",
       "    <tr style=\"text-align: right;\">\n",
       "      <th></th>\n",
       "      <th>name</th>\n",
       "      <th>age</th>\n",
       "      <th>height</th>\n",
       "    </tr>\n",
       "  </thead>\n",
       "  <tbody>\n",
       "    <tr>\n",
       "      <th>1</th>\n",
       "      <td>광수</td>\n",
       "      <td>41</td>\n",
       "      <td>190</td>\n",
       "    </tr>\n",
       "    <tr>\n",
       "      <th>2</th>\n",
       "      <td>재석</td>\n",
       "      <td>62</td>\n",
       "      <td>178</td>\n",
       "    </tr>\n",
       "  </tbody>\n",
       "</table>\n",
       "</div>"
      ],
      "text/plain": [
       "  name  age  height\n",
       "1   광수   41     190\n",
       "2   재석   62     178"
      ]
     },
     "execution_count": 51,
     "metadata": {},
     "output_type": "execute_result"
    }
   ],
   "source": [
    "# loc 이용\n",
    "data4.loc[[1,2]]"
   ]
  },
  {
   "cell_type": "code",
   "execution_count": 52,
   "id": "410b48b3",
   "metadata": {},
   "outputs": [
    {
     "data": {
      "text/html": [
       "<div>\n",
       "<style scoped>\n",
       "    .dataframe tbody tr th:only-of-type {\n",
       "        vertical-align: middle;\n",
       "    }\n",
       "\n",
       "    .dataframe tbody tr th {\n",
       "        vertical-align: top;\n",
       "    }\n",
       "\n",
       "    .dataframe thead th {\n",
       "        text-align: right;\n",
       "    }\n",
       "</style>\n",
       "<table border=\"1\" class=\"dataframe\">\n",
       "  <thead>\n",
       "    <tr style=\"text-align: right;\">\n",
       "      <th></th>\n",
       "      <th>name</th>\n",
       "      <th>age</th>\n",
       "    </tr>\n",
       "  </thead>\n",
       "  <tbody>\n",
       "    <tr>\n",
       "      <th>0</th>\n",
       "      <td>벤</td>\n",
       "      <td>23</td>\n",
       "    </tr>\n",
       "    <tr>\n",
       "      <th>1</th>\n",
       "      <td>광수</td>\n",
       "      <td>41</td>\n",
       "    </tr>\n",
       "    <tr>\n",
       "      <th>2</th>\n",
       "      <td>재석</td>\n",
       "      <td>62</td>\n",
       "    </tr>\n",
       "    <tr>\n",
       "      <th>3</th>\n",
       "      <td>종국</td>\n",
       "      <td>9</td>\n",
       "    </tr>\n",
       "  </tbody>\n",
       "</table>\n",
       "</div>"
      ],
      "text/plain": [
       "  name  age\n",
       "0    벤   23\n",
       "1   광수   41\n",
       "2   재석   62\n",
       "3   종국    9"
      ]
     },
     "execution_count": 52,
     "metadata": {},
     "output_type": "execute_result"
    }
   ],
   "source": [
    "data4.loc[:,[\"name\",\"age\"]]"
   ]
  },
  {
   "cell_type": "code",
   "execution_count": 54,
   "id": "74386c8c",
   "metadata": {},
   "outputs": [
    {
     "data": {
      "text/html": [
       "<div>\n",
       "<style scoped>\n",
       "    .dataframe tbody tr th:only-of-type {\n",
       "        vertical-align: middle;\n",
       "    }\n",
       "\n",
       "    .dataframe tbody tr th {\n",
       "        vertical-align: top;\n",
       "    }\n",
       "\n",
       "    .dataframe thead th {\n",
       "        text-align: right;\n",
       "    }\n",
       "</style>\n",
       "<table border=\"1\" class=\"dataframe\">\n",
       "  <thead>\n",
       "    <tr style=\"text-align: right;\">\n",
       "      <th></th>\n",
       "      <th>name</th>\n",
       "      <th>age</th>\n",
       "      <th>height</th>\n",
       "    </tr>\n",
       "  </thead>\n",
       "  <tbody>\n",
       "    <tr>\n",
       "      <th>0</th>\n",
       "      <td>벤</td>\n",
       "      <td>23</td>\n",
       "      <td>152</td>\n",
       "    </tr>\n",
       "    <tr>\n",
       "      <th>1</th>\n",
       "      <td>광수</td>\n",
       "      <td>41</td>\n",
       "      <td>190</td>\n",
       "    </tr>\n",
       "    <tr>\n",
       "      <th>2</th>\n",
       "      <td>재석</td>\n",
       "      <td>62</td>\n",
       "      <td>178</td>\n",
       "    </tr>\n",
       "  </tbody>\n",
       "</table>\n",
       "</div>"
      ],
      "text/plain": [
       "  name  age  height\n",
       "0    벤   23     152\n",
       "1   광수   41     190\n",
       "2   재석   62     178"
      ]
     },
     "execution_count": 54,
     "metadata": {},
     "output_type": "execute_result"
    }
   ],
   "source": [
    "data4.head(3)\n",
    "data4[:3]"
   ]
  },
  {
   "cell_type": "code",
   "execution_count": 55,
   "id": "e823f710",
   "metadata": {},
   "outputs": [
    {
     "data": {
      "text/html": [
       "<div>\n",
       "<style scoped>\n",
       "    .dataframe tbody tr th:only-of-type {\n",
       "        vertical-align: middle;\n",
       "    }\n",
       "\n",
       "    .dataframe tbody tr th {\n",
       "        vertical-align: top;\n",
       "    }\n",
       "\n",
       "    .dataframe thead th {\n",
       "        text-align: right;\n",
       "    }\n",
       "</style>\n",
       "<table border=\"1\" class=\"dataframe\">\n",
       "  <thead>\n",
       "    <tr style=\"text-align: right;\">\n",
       "      <th></th>\n",
       "      <th>name</th>\n",
       "      <th>age</th>\n",
       "      <th>height</th>\n",
       "    </tr>\n",
       "  </thead>\n",
       "  <tbody>\n",
       "    <tr>\n",
       "      <th>2</th>\n",
       "      <td>재석</td>\n",
       "      <td>62</td>\n",
       "      <td>178</td>\n",
       "    </tr>\n",
       "    <tr>\n",
       "      <th>3</th>\n",
       "      <td>종국</td>\n",
       "      <td>9</td>\n",
       "      <td>185</td>\n",
       "    </tr>\n",
       "  </tbody>\n",
       "</table>\n",
       "</div>"
      ],
      "text/plain": [
       "  name  age  height\n",
       "2   재석   62     178\n",
       "3   종국    9     185"
      ]
     },
     "execution_count": 55,
     "metadata": {},
     "output_type": "execute_result"
    }
   ],
   "source": [
    "data4.tail(2)\n",
    "data4[-2:]"
   ]
  },
  {
   "cell_type": "code",
   "execution_count": 56,
   "id": "3e310592",
   "metadata": {},
   "outputs": [
    {
     "data": {
      "text/html": [
       "<div>\n",
       "<style scoped>\n",
       "    .dataframe tbody tr th:only-of-type {\n",
       "        vertical-align: middle;\n",
       "    }\n",
       "\n",
       "    .dataframe tbody tr th {\n",
       "        vertical-align: top;\n",
       "    }\n",
       "\n",
       "    .dataframe thead th {\n",
       "        text-align: right;\n",
       "    }\n",
       "</style>\n",
       "<table border=\"1\" class=\"dataframe\">\n",
       "  <thead>\n",
       "    <tr style=\"text-align: right;\">\n",
       "      <th></th>\n",
       "      <th>name</th>\n",
       "      <th>age</th>\n",
       "      <th>height</th>\n",
       "    </tr>\n",
       "  </thead>\n",
       "  <tbody>\n",
       "    <tr>\n",
       "      <th>1</th>\n",
       "      <td>광수</td>\n",
       "      <td>41</td>\n",
       "      <td>190</td>\n",
       "    </tr>\n",
       "    <tr>\n",
       "      <th>2</th>\n",
       "      <td>재석</td>\n",
       "      <td>62</td>\n",
       "      <td>178</td>\n",
       "    </tr>\n",
       "  </tbody>\n",
       "</table>\n",
       "</div>"
      ],
      "text/plain": [
       "  name  age  height\n",
       "1   광수   41     190\n",
       "2   재석   62     178"
      ]
     },
     "execution_count": 56,
     "metadata": {},
     "output_type": "execute_result"
    }
   ],
   "source": [
    "# bool형 이용해서 2,3행만 뽑기\n",
    "bool_list = [False, True, True, False]\n",
    "data4[bool_list]"
   ]
  },
  {
   "cell_type": "code",
   "execution_count": 57,
   "id": "8fb79cc1",
   "metadata": {},
   "outputs": [
    {
     "data": {
      "text/plain": [
       "1    41\n",
       "2    62\n",
       "Name: age, dtype: int64"
      ]
     },
     "execution_count": 57,
     "metadata": {},
     "output_type": "execute_result"
    }
   ],
   "source": [
    "# bool형 이용해서 age열에서 2,4번째 뽑기\n",
    "bool_list = [False, True, True, False]\n",
    "data4.age[bool_list]"
   ]
  },
  {
   "cell_type": "code",
   "execution_count": 59,
   "id": "3a1f225b",
   "metadata": {},
   "outputs": [
    {
     "data": {
      "text/plain": [
       "age        33.75\n",
       "height    176.25\n",
       "dtype: float64"
      ]
     },
     "execution_count": 59,
     "metadata": {},
     "output_type": "execute_result"
    }
   ],
   "source": [
    "data4.mean()"
   ]
  },
  {
   "cell_type": "code",
   "execution_count": 58,
   "id": "e7ba0771",
   "metadata": {},
   "outputs": [
    {
     "data": {
      "text/plain": [
       "33.75"
      ]
     },
     "execution_count": 58,
     "metadata": {},
     "output_type": "execute_result"
    }
   ],
   "source": [
    "data4.age.mean(axis=0)"
   ]
  },
  {
   "cell_type": "code",
   "execution_count": 63,
   "id": "aae0af9b",
   "metadata": {},
   "outputs": [
    {
     "data": {
      "text/plain": [
       "0    152.0\n",
       "1    190.0\n",
       "2    178.0\n",
       "3    185.0\n",
       "Name: height, dtype: float64"
      ]
     },
     "execution_count": 63,
     "metadata": {},
     "output_type": "execute_result"
    }
   ],
   "source": [
    "#데이터형 float로 바꾸기\n",
    "data4.height.astype(\"float\")"
   ]
  },
  {
   "cell_type": "code",
   "execution_count": null,
   "id": "98cbdde8",
   "metadata": {},
   "outputs": [],
   "source": [
    "123"
   ]
  }
 ],
 "metadata": {
  "kernelspec": {
   "display_name": "Python 3",
   "language": "python",
   "name": "python3"
  },
  "language_info": {
   "codemirror_mode": {
    "name": "ipython",
    "version": 3
   },
   "file_extension": ".py",
   "mimetype": "text/x-python",
   "name": "python",
   "nbconvert_exporter": "python",
   "pygments_lexer": "ipython3",
   "version": "3.8.8"
  }
 },
 "nbformat": 4,
 "nbformat_minor": 5
}
